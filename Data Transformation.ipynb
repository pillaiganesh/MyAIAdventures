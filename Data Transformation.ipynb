{
 "cells": [
  {
   "cell_type": "markdown",
   "id": "d85ac6d9",
   "metadata": {},
   "source": [
    "# Data Transformation and Visualization with Pandas\n",
    "\n",
    "## Instructions:\n",
    "This notebook contains a real-life dataset with dirty, malformed data, and outliers.\n",
    "Your goal is to clean, transform, analyze, and visualize the data using **Pandas** and **Matplotlib**.\n",
    "\n",
    "Complete the following tasks step by step. If you get stuck, refer to the [Pandas documentation](https://pandas.pydata.org/docs/) for help.\n",
    "\n",
    "At the end of this notebook, the solutions will be provided. Attempt all tasks first before checking the solutions!"
   ]
  },
  {
   "cell_type": "code",
   "execution_count": 3,
   "id": "3d9be070",
   "metadata": {},
   "outputs": [],
   "source": [
    "# Import required libraries\n",
    "import pandas as pd\n",
    "import numpy as np\n",
    "import matplotlib.pyplot as plt\n",
    "import random"
   ]
  },
  {
   "cell_type": "markdown",
   "id": "58d50934",
   "metadata": {},
   "source": [
    "# ----------------------------\n",
    "# 1. Generate a Dirty Dataset\n",
    "# ----------------------------"
   ]
  },
  {
   "cell_type": "code",
   "execution_count": 4,
   "id": "1954989b",
   "metadata": {},
   "outputs": [],
   "source": [
    "np.random.seed(42)\n",
    "random.seed(42)"
   ]
  },
  {
   "cell_type": "code",
   "execution_count": 5,
   "id": "a464d245",
   "metadata": {},
   "outputs": [],
   "source": [
    "# Create a dataframe with dirty data\n",
    "data = {\n",
    "    'ID': [1, 2, 3, 4, 5, 6, 7, 8, 9, 10],\n",
    "    'Name': [' Alice', 'BOB', 'Catherine', 'David ', 'Eve', 'frank', 'Gina', 'Henry', 'Ivy', 'Jack'],\n",
    "    'Age': [23, 35, np.nan, 45, 29, 34, -1, 120, 25, 40],  # Missing and outlier values\n",
    "    'Salary ($)': [50000, 60000, 75000, 80000, None, 120000, 45000, None, 70000, 62000],\n",
    "    'Joining_Date': ['2021-01-15', '2020-06-10', '2023-03-01', '2020-12-10', None, '2019-08-20',\n",
    "                     '2021-11-15', '2020-06-10', '2023-01-01', '2018-09-25'],\n",
    "    'Department': ['HR', 'Sales', 'HR', 'IT', 'IT', 'Finance', 'Sales', 'Sales', 'HR', 'Finance'],\n",
    "    'Performance_Score': [\"A\", \"B\", \"C\", \"A\", \"B\", \"Invalid\", \"C\", \"A\", \"B\", \"A\"]\n",
    "}"
   ]
  },
  {
   "cell_type": "code",
   "execution_count": 6,
   "id": "1e7ebd9f",
   "metadata": {},
   "outputs": [],
   "source": [
    "# Create dataframe\n",
    "df = pd.DataFrame(data)"
   ]
  },
  {
   "cell_type": "code",
   "execution_count": 7,
   "id": "989b5301",
   "metadata": {},
   "outputs": [],
   "source": [
    "# Introduce duplicate rows, malformed data, and extreme outliers\n",
    "df.loc[10] = [10, 'Jack', 40, 62000, '2018-09-25', 'Finance', 'A']  # Duplicate row\n",
    "df.loc[11] = [11, None, None, None, None, None, None]               # Malformed row\n",
    "df.loc[12] = [12, 'Outlier', 200, 1000000, '2023-04-01', 'IT', 'A']  # Extreme outlier"
   ]
  },
  {
   "cell_type": "code",
   "execution_count": 8,
   "id": "eec82297",
   "metadata": {},
   "outputs": [
    {
     "name": "stdout",
     "output_type": "stream",
     "text": [
      "Initial Dirty Dataset:\n"
     ]
    },
    {
     "data": {
      "text/html": [
       "<div>\n",
       "<style scoped>\n",
       "    .dataframe tbody tr th:only-of-type {\n",
       "        vertical-align: middle;\n",
       "    }\n",
       "\n",
       "    .dataframe tbody tr th {\n",
       "        vertical-align: top;\n",
       "    }\n",
       "\n",
       "    .dataframe thead th {\n",
       "        text-align: right;\n",
       "    }\n",
       "</style>\n",
       "<table border=\"1\" class=\"dataframe\">\n",
       "  <thead>\n",
       "    <tr style=\"text-align: right;\">\n",
       "      <th></th>\n",
       "      <th>ID</th>\n",
       "      <th>Name</th>\n",
       "      <th>Age</th>\n",
       "      <th>Salary ($)</th>\n",
       "      <th>Joining_Date</th>\n",
       "      <th>Department</th>\n",
       "      <th>Performance_Score</th>\n",
       "    </tr>\n",
       "  </thead>\n",
       "  <tbody>\n",
       "    <tr>\n",
       "      <th>0</th>\n",
       "      <td>1.0</td>\n",
       "      <td>Alice</td>\n",
       "      <td>23.0</td>\n",
       "      <td>50000.0</td>\n",
       "      <td>2021-01-15</td>\n",
       "      <td>HR</td>\n",
       "      <td>A</td>\n",
       "    </tr>\n",
       "    <tr>\n",
       "      <th>1</th>\n",
       "      <td>2.0</td>\n",
       "      <td>BOB</td>\n",
       "      <td>35.0</td>\n",
       "      <td>60000.0</td>\n",
       "      <td>2020-06-10</td>\n",
       "      <td>Sales</td>\n",
       "      <td>B</td>\n",
       "    </tr>\n",
       "    <tr>\n",
       "      <th>2</th>\n",
       "      <td>3.0</td>\n",
       "      <td>Catherine</td>\n",
       "      <td>NaN</td>\n",
       "      <td>75000.0</td>\n",
       "      <td>2023-03-01</td>\n",
       "      <td>HR</td>\n",
       "      <td>C</td>\n",
       "    </tr>\n",
       "    <tr>\n",
       "      <th>3</th>\n",
       "      <td>4.0</td>\n",
       "      <td>David</td>\n",
       "      <td>45.0</td>\n",
       "      <td>80000.0</td>\n",
       "      <td>2020-12-10</td>\n",
       "      <td>IT</td>\n",
       "      <td>A</td>\n",
       "    </tr>\n",
       "    <tr>\n",
       "      <th>4</th>\n",
       "      <td>5.0</td>\n",
       "      <td>Eve</td>\n",
       "      <td>29.0</td>\n",
       "      <td>NaN</td>\n",
       "      <td>None</td>\n",
       "      <td>IT</td>\n",
       "      <td>B</td>\n",
       "    </tr>\n",
       "    <tr>\n",
       "      <th>5</th>\n",
       "      <td>6.0</td>\n",
       "      <td>frank</td>\n",
       "      <td>34.0</td>\n",
       "      <td>120000.0</td>\n",
       "      <td>2019-08-20</td>\n",
       "      <td>Finance</td>\n",
       "      <td>Invalid</td>\n",
       "    </tr>\n",
       "    <tr>\n",
       "      <th>6</th>\n",
       "      <td>7.0</td>\n",
       "      <td>Gina</td>\n",
       "      <td>-1.0</td>\n",
       "      <td>45000.0</td>\n",
       "      <td>2021-11-15</td>\n",
       "      <td>Sales</td>\n",
       "      <td>C</td>\n",
       "    </tr>\n",
       "    <tr>\n",
       "      <th>7</th>\n",
       "      <td>8.0</td>\n",
       "      <td>Henry</td>\n",
       "      <td>120.0</td>\n",
       "      <td>NaN</td>\n",
       "      <td>2020-06-10</td>\n",
       "      <td>Sales</td>\n",
       "      <td>A</td>\n",
       "    </tr>\n",
       "    <tr>\n",
       "      <th>8</th>\n",
       "      <td>9.0</td>\n",
       "      <td>Ivy</td>\n",
       "      <td>25.0</td>\n",
       "      <td>70000.0</td>\n",
       "      <td>2023-01-01</td>\n",
       "      <td>HR</td>\n",
       "      <td>B</td>\n",
       "    </tr>\n",
       "    <tr>\n",
       "      <th>9</th>\n",
       "      <td>10.0</td>\n",
       "      <td>Jack</td>\n",
       "      <td>40.0</td>\n",
       "      <td>62000.0</td>\n",
       "      <td>2018-09-25</td>\n",
       "      <td>Finance</td>\n",
       "      <td>A</td>\n",
       "    </tr>\n",
       "    <tr>\n",
       "      <th>10</th>\n",
       "      <td>10.0</td>\n",
       "      <td>Jack</td>\n",
       "      <td>40.0</td>\n",
       "      <td>62000.0</td>\n",
       "      <td>2018-09-25</td>\n",
       "      <td>Finance</td>\n",
       "      <td>A</td>\n",
       "    </tr>\n",
       "    <tr>\n",
       "      <th>11</th>\n",
       "      <td>11.0</td>\n",
       "      <td>NaN</td>\n",
       "      <td>NaN</td>\n",
       "      <td>NaN</td>\n",
       "      <td>NaN</td>\n",
       "      <td>NaN</td>\n",
       "      <td>NaN</td>\n",
       "    </tr>\n",
       "    <tr>\n",
       "      <th>12</th>\n",
       "      <td>12.0</td>\n",
       "      <td>Outlier</td>\n",
       "      <td>200.0</td>\n",
       "      <td>1000000.0</td>\n",
       "      <td>2023-04-01</td>\n",
       "      <td>IT</td>\n",
       "      <td>A</td>\n",
       "    </tr>\n",
       "  </tbody>\n",
       "</table>\n",
       "</div>"
      ],
      "text/plain": [
       "      ID       Name    Age  Salary ($) Joining_Date Department  \\\n",
       "0    1.0      Alice   23.0     50000.0   2021-01-15         HR   \n",
       "1    2.0        BOB   35.0     60000.0   2020-06-10      Sales   \n",
       "2    3.0  Catherine    NaN     75000.0   2023-03-01         HR   \n",
       "3    4.0     David    45.0     80000.0   2020-12-10         IT   \n",
       "4    5.0        Eve   29.0         NaN         None         IT   \n",
       "5    6.0      frank   34.0    120000.0   2019-08-20    Finance   \n",
       "6    7.0       Gina   -1.0     45000.0   2021-11-15      Sales   \n",
       "7    8.0      Henry  120.0         NaN   2020-06-10      Sales   \n",
       "8    9.0        Ivy   25.0     70000.0   2023-01-01         HR   \n",
       "9   10.0       Jack   40.0     62000.0   2018-09-25    Finance   \n",
       "10  10.0       Jack   40.0     62000.0   2018-09-25    Finance   \n",
       "11  11.0        NaN    NaN         NaN          NaN        NaN   \n",
       "12  12.0    Outlier  200.0   1000000.0   2023-04-01         IT   \n",
       "\n",
       "   Performance_Score  \n",
       "0                  A  \n",
       "1                  B  \n",
       "2                  C  \n",
       "3                  A  \n",
       "4                  B  \n",
       "5            Invalid  \n",
       "6                  C  \n",
       "7                  A  \n",
       "8                  B  \n",
       "9                  A  \n",
       "10                 A  \n",
       "11               NaN  \n",
       "12                 A  "
      ]
     },
     "metadata": {},
     "output_type": "display_data"
    }
   ],
   "source": [
    "# Display the initial dataset\n",
    "print(\"Initial Dirty Dataset:\")\n",
    "display(df)"
   ]
  },
  {
   "cell_type": "code",
   "execution_count": 9,
   "id": "1788f260",
   "metadata": {},
   "outputs": [],
   "source": [
    "# Save the initial dataset as CSV (for later use)\n",
    "df.to_csv('dirty_data.csv', index=False)"
   ]
  },
  {
   "cell_type": "markdown",
   "id": "f3536f9c",
   "metadata": {},
   "source": [
    "# -------------------------------------------------\n",
    "# 2. Tasks for Students - Perform the following\n",
    "# -------------------------------------------------"
   ]
  },
  {
   "cell_type": "markdown",
   "id": "c3e085d1",
   "metadata": {},
   "source": [
    "\n",
    "## TASK 1: Handle Missing Values\n",
    "1. Replace all `NaN` values in the \"Age\" column with the mean age.\n",
    "2. Replace all `NaN` values in the \"Salary ($)\" column with the median salary.\n",
    "3. Drop rows where \"Name\" or \"Joining_Date\" are missing.\n",
    "\n",
    "Reference: https://pandas.pydata.org/docs/reference/api/pandas.DataFrame.fillna.html\n"
   ]
  },
  {
   "cell_type": "code",
   "execution_count": null,
   "id": "6c140425",
   "metadata": {},
   "outputs": [],
   "source": []
  },
  {
   "cell_type": "markdown",
   "id": "86845fd9",
   "metadata": {},
   "source": [
    "## TASK 2: Remove Duplicates\n",
    "1. Identify duplicate rows.\n",
    "2. Drop duplicate rows.\n",
    "\n",
    "Reference: https://pandas.pydata.org/docs/reference/api/pandas.DataFrame.drop_duplicates.html"
   ]
  },
  {
   "cell_type": "code",
   "execution_count": null,
   "id": "b35a9c8b",
   "metadata": {},
   "outputs": [],
   "source": []
  },
  {
   "cell_type": "markdown",
   "id": "72f73973",
   "metadata": {},
   "source": [
    "## TASK 3: Clean Text Columns\n",
    "1. Remove leading/trailing whitespaces from the \"Name\" column.\n",
    "2. Convert all names to title case (e.g., 'alice' -> 'Alice').\n",
    "\n",
    "Reference: https://pandas.pydata.org/docs/reference/api/pandas.Series.str.strip.html"
   ]
  },
  {
   "cell_type": "code",
   "execution_count": null,
   "id": "f0f0427f",
   "metadata": {},
   "outputs": [],
   "source": []
  },
  {
   "cell_type": "markdown",
   "id": "e1b56c7f",
   "metadata": {},
   "source": [
    "## TASK 4: Handle Outliers\n",
    "1. Visualize outliers in the \"Age\" and \"Salary ($)\" columns using boxplots.\n",
    "2. Replace negative values in the \"Age\" column with the column's mean.\n",
    "3. Cap the \"Age\" column values to 100.\n",
    "4. Remove rows where the \"Salary ($)\" column is greater than 300,000.\n",
    "\n",
    "Reference: https://pandas.pydata.org/docs/reference/api/pandas.DataFrame.clip.html"
   ]
  },
  {
   "cell_type": "code",
   "execution_count": null,
   "id": "a5dca5da",
   "metadata": {},
   "outputs": [],
   "source": []
  },
  {
   "cell_type": "markdown",
   "id": "a3a5b3ad",
   "metadata": {},
   "source": [
    "## TASK 5: Data Type Conversion\n",
    "1. Convert the \"Joining_Date\" column to datetime format.\n",
    "2. Extract the year from the \"Joining_Date\" column and store it in a new column \"Joining_Year\".\n",
    "\n",
    "Reference: https://pandas.pydata.org/docs/reference/api/pandas.to_datetime.html"
   ]
  },
  {
   "cell_type": "code",
   "execution_count": null,
   "id": "15ef659e",
   "metadata": {},
   "outputs": [],
   "source": []
  },
  {
   "cell_type": "markdown",
   "id": "9bd3c6c2",
   "metadata": {},
   "source": [
    "## TASK 6: Aggregation and GroupBy\n",
    "1. Find the average \"Salary\" for each \"Department\".\n",
    "2. Count the number of employees in each department.\n",
    "\n",
    "Reference: https://pandas.pydata.org/docs/reference/api/pandas.DataFrame.groupby.html"
   ]
  },
  {
   "cell_type": "code",
   "execution_count": null,
   "id": "b725e02a",
   "metadata": {},
   "outputs": [],
   "source": []
  },
  {
   "cell_type": "markdown",
   "id": "f2bb243e",
   "metadata": {},
   "source": [
    "## TASK 7: Visualization with Matplotlib\n",
    "1. Plot a bar chart showing average salary by department.\n",
    "2. Plot a histogram of the \"Age\" column.\n",
    "3. Plot a line chart showing the count of employees who joined each year.\n",
    "4. Add a final step: Visualize the cleaned dataset's boxplots for \"Age\" and \"Salary ($)\" to confirm outliers are handled.\n",
    "\n",
    "Reference: https://matplotlib.org/stable/gallery/index.html"
   ]
  },
  {
   "cell_type": "code",
   "execution_count": null,
   "id": "ec7872f6",
   "metadata": {},
   "outputs": [],
   "source": []
  },
  {
   "cell_type": "markdown",
   "id": "c0e3e105",
   "metadata": {},
   "source": [
    "## TASK 8: Extract Initials\n",
    "1. Extract the first letter of each name and create a new column \"Initial\".\n",
    "\n",
    "Reference: https://pandas.pydata.org/docs/reference/api/pandas.Series.str.html"
   ]
  },
  {
   "cell_type": "code",
   "execution_count": null,
   "id": "52145873",
   "metadata": {},
   "outputs": [],
   "source": []
  },
  {
   "cell_type": "markdown",
   "id": "b9c58a9f",
   "metadata": {},
   "source": [
    "## TASK 9: Replace Values in Columns\n",
    "1. Replace \"Invalid\" in the \"Performance_Score\" column with \"D\".\n",
    "\n",
    "Reference: https://pandas.pydata.org/docs/reference/api/pandas.DataFrame.replace.html"
   ]
  },
  {
   "cell_type": "code",
   "execution_count": null,
   "id": "2cd87d29",
   "metadata": {},
   "outputs": [],
   "source": []
  },
  {
   "cell_type": "markdown",
   "id": "954bb919",
   "metadata": {},
   "source": [
    "## TASK 10: Add Calculated Columns\n",
    "1. Create a new column \"Salary_in_Lacs\" by dividing \"Salary ($)\" by 100,000.\n",
    "\n",
    "Reference: https://pandas.pydata.org/docs/reference/api/pandas.DataFrame.assign.html"
   ]
  },
  {
   "cell_type": "code",
   "execution_count": null,
   "id": "414e0571",
   "metadata": {},
   "outputs": [],
   "source": []
  },
  {
   "cell_type": "markdown",
   "id": "1192eb1f",
   "metadata": {},
   "source": [
    "## TASK 11: Normalize Salary\n",
    "1. Normalize the \"Salary ($)\" column so that all values fall between 0 and 1.\n",
    "\n",
    "Hint: Use min-max normalization.\n",
    "\n",
    "Reference: https://pandas.pydata.org/docs/reference/api/pandas.DataFrame.min.html"
   ]
  },
  {
   "cell_type": "code",
   "execution_count": null,
   "id": "ec5ecebf",
   "metadata": {},
   "outputs": [],
   "source": []
  },
  {
   "cell_type": "markdown",
   "id": "8458a14e",
   "metadata": {},
   "source": [
    "## TASK 12: Concatenate Columns\n",
    "1. Create a new column \"Name_Department\" that combines \"Name\" and \"Department\".\n",
    "\n",
    "Reference: https://pandas.pydata.org/docs/reference/api/pandas.Series.str.cat.html"
   ]
  },
  {
   "cell_type": "code",
   "execution_count": null,
   "id": "c6463a22",
   "metadata": {},
   "outputs": [],
   "source": []
  },
  {
   "cell_type": "markdown",
   "id": "706a7166",
   "metadata": {},
   "source": [
    "## TASK 13: Filter Rows\n",
    "1. Filter rows where \"Salary ($)\" is greater than 60000 and \"Age\" is less than 40.\n",
    "\n",
    "Reference: https://pandas.pydata.org/docs/reference/api/pandas.DataFrame.query.html"
   ]
  },
  {
   "cell_type": "code",
   "execution_count": null,
   "id": "05dff574",
   "metadata": {},
   "outputs": [],
   "source": []
  },
  {
   "cell_type": "markdown",
   "id": "8700b87e",
   "metadata": {},
   "source": [
    "## TASK 14: Drop Columns\n",
    "1. Drop the \"ID\" column from the dataset.\n",
    "\n",
    "Reference: https://pandas.pydata.org/docs/reference/api/pandas.DataFrame.drop.html"
   ]
  },
  {
   "cell_type": "code",
   "execution_count": null,
   "id": "6a8b6f2b",
   "metadata": {},
   "outputs": [],
   "source": []
  },
  {
   "cell_type": "markdown",
   "id": "794fd422",
   "metadata": {},
   "source": [
    "## TASK 15: Sort Data\n",
    "1. Sort the dataset by \"Age\" in ascending order and \"Salary ($)\" in descending order.\n",
    "\n",
    "Reference: https://pandas.pydata.org/docs/reference/api/pandas.DataFrame.sort_values.html"
   ]
  },
  {
   "cell_type": "code",
   "execution_count": null,
   "id": "7eccdcad",
   "metadata": {},
   "outputs": [],
   "source": []
  },
  {
   "cell_type": "markdown",
   "id": "811fe291",
   "metadata": {},
   "source": [
    "## TASK 16: Create a Pivot Table\n",
    "1. Create a pivot table that shows the average \"Salary ($)\" for each \"Department\" and \"Performance_Score\".\n",
    "\n",
    "Reference: https://pandas.pydata.org/docs/reference/api/pandas.pivot_table.html"
   ]
  },
  {
   "cell_type": "code",
   "execution_count": null,
   "id": "0a14540f",
   "metadata": {},
   "outputs": [],
   "source": []
  },
  {
   "cell_type": "markdown",
   "id": "0003c351",
   "metadata": {},
   "source": [
    "## TASK 17: Melt the DataFrame\n",
    "1. Melt the dataset to unpivot \"Age\" and \"Salary ($)\" columns.\n",
    "\n",
    "Reference: https://pandas.pydata.org/docs/reference/api/pandas.melt.html"
   ]
  },
  {
   "cell_type": "code",
   "execution_count": null,
   "id": "61e966d0",
   "metadata": {},
   "outputs": [],
   "source": []
  },
  {
   "cell_type": "markdown",
   "id": "444c478a",
   "metadata": {},
   "source": [
    "## TASK 18: Apply a Function Row-wise\n",
    "1. Create a new column \"Salary_Category\" based on salary:\n",
    "   - \"Low\" if Salary < 50000\n",
    "   - \"Medium\" if 50000 <= Salary < 80000\n",
    "   - \"High\" if Salary >= 80000\n",
    "\n",
    "Reference: https://pandas.pydata.org/docs/reference/api/pandas.DataFrame.apply.html"
   ]
  },
  {
   "cell_type": "code",
   "execution_count": null,
   "id": "4f1e2733",
   "metadata": {},
   "outputs": [],
   "source": []
  },
  {
   "cell_type": "code",
   "execution_count": null,
   "id": "402bbee5",
   "metadata": {},
   "outputs": [],
   "source": []
  }
 ],
 "metadata": {
  "kernelspec": {
   "display_name": "conda_python3",
   "language": "python",
   "name": "conda_python3"
  },
  "language_info": {
   "codemirror_mode": {
    "name": "ipython",
    "version": 3
   },
   "file_extension": ".py",
   "mimetype": "text/x-python",
   "name": "python",
   "nbconvert_exporter": "python",
   "pygments_lexer": "ipython3",
   "version": "3.10.15"
  }
 },
 "nbformat": 4,
 "nbformat_minor": 5
}
