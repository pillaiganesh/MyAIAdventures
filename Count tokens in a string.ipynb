{
  "nbformat": 4,
  "nbformat_minor": 0,
  "metadata": {
    "colab": {
      "provenance": [],
      "authorship_tag": "ABX9TyODk3L9XWhafJErauUBQ245",
      "include_colab_link": true
    },
    "kernelspec": {
      "name": "python3",
      "display_name": "Python 3"
    },
    "language_info": {
      "name": "python"
    }
  },
  "cells": [
    {
      "cell_type": "markdown",
      "metadata": {
        "id": "view-in-github",
        "colab_type": "text"
      },
      "source": [
        "<a href=\"https://colab.research.google.com/github/pillaiganesh/MyAIAdventures/blob/IITKGP/Count%20tokens%20in%20a%20string.ipynb\" target=\"_parent\"><img src=\"https://colab.research.google.com/assets/colab-badge.svg\" alt=\"Open In Colab\"/></a>"
      ]
    },
    {
      "cell_type": "code",
      "source": [
        "pip install nltk"
      ],
      "metadata": {
        "colab": {
          "base_uri": "https://localhost:8080/"
        },
        "id": "-JHAQ11r-fv-",
        "outputId": "e03726ff-9d7c-459f-bf85-7212a05ea0d4"
      },
      "execution_count": null,
      "outputs": [
        {
          "output_type": "stream",
          "name": "stdout",
          "text": [
            "Requirement already satisfied: nltk in /usr/local/lib/python3.10/dist-packages (3.8.1)\n",
            "Requirement already satisfied: click in /usr/local/lib/python3.10/dist-packages (from nltk) (8.1.7)\n",
            "Requirement already satisfied: joblib in /usr/local/lib/python3.10/dist-packages (from nltk) (1.3.2)\n",
            "Requirement already satisfied: regex>=2021.8.3 in /usr/local/lib/python3.10/dist-packages (from nltk) (2023.6.3)\n",
            "Requirement already satisfied: tqdm in /usr/local/lib/python3.10/dist-packages (from nltk) (4.66.1)\n"
          ]
        }
      ]
    },
    {
      "cell_type": "code",
      "execution_count": null,
      "metadata": {
        "colab": {
          "base_uri": "https://localhost:8080/"
        },
        "id": "jZs6yBXN9sdV",
        "outputId": "3f2e686c-d45b-49a1-bb43-d7739e290612"
      },
      "outputs": [
        {
          "output_type": "stream",
          "name": "stdout",
          "text": [
            "Number of tokens: 8\n",
            "Tokens: ['A', 'B', 'AB', 'C', 'D', 'AC', 'ABCDER', 'ABCDEFGHIJKLMNOPQRSTABCDEFGHIJKLMNOPQRST']\n"
          ]
        },
        {
          "output_type": "stream",
          "name": "stderr",
          "text": [
            "[nltk_data] Downloading package punkt to /root/nltk_data...\n",
            "[nltk_data]   Package punkt is already up-to-date!\n"
          ]
        }
      ],
      "source": [
        "import nltk\n",
        "from nltk.tokenize import word_tokenize\n",
        "\n",
        "nltk.download('punkt')\n",
        "\n",
        "def count_tokens(input_string):\n",
        "    # Tokenize the input string\n",
        "    tokens = word_tokenize(input_string)\n",
        "\n",
        "    # Count the number of tokens\n",
        "    num_tokens = len(tokens)\n",
        "\n",
        "    return num_tokens, tokens\n",
        "\n",
        "# Example usage:\n",
        "input_text = \"A B AB C D AC ABCDER ABCDEFGHIJKLMNOPQRSTABCDEFGHIJKLMNOPQRST\"\n",
        "num_tokens, token_list = count_tokens(input_text)\n",
        "\n",
        "print(f\"Number of tokens: {num_tokens}\")\n",
        "print(\"Tokens:\", token_list)\n"
      ]
    }
  ]
}