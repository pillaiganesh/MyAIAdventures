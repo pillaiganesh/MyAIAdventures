{
 "cells": [
  {
   "cell_type": "markdown",
   "id": "54cc8a8b",
   "metadata": {},
   "source": [
    "## This code is to use ML methods for Solar Irradiance Forecasting"
   ]
  },
  {
   "cell_type": "code",
   "execution_count": null,
   "id": "f866fb06",
   "metadata": {},
   "outputs": [],
   "source": [
    "# Commonly used python functions and display settings\n",
    "import pandas as pd\n",
    "import numpy as np\n",
    "pd.options.display.float_format = '{:,.2f}'.format\n",
    "\n",
    "from IPython.core.interactiveshell import InteractiveShell\n",
    "InteractiveShell.ast_node_interactivity = \"all\"\n",
    "from IPython.core.display import display, HTML\n",
    "\n",
    "import warnings\n",
    "warnings.filterwarnings(\"ignore\") # specify to ignore warning messages"
   ]
  },
  {
   "cell_type": "code",
   "execution_count": null,
   "id": "cfa6a566",
   "metadata": {},
   "outputs": [],
   "source": [
    "# Key imports for this code (various ML and Stat Models)\n",
    "from sklearn.ensemble import GradientBoostingRegressor\n",
    "from sklearn.ensemble import RandomForestRegressor\n",
    "from xgboost import XGBRegressor\n",
    "from sklearn.linear_model import LinearRegression\n",
    "from statsmodels.tsa.api import ExponentialSmoothing\n",
    "from statsmodels.tsa.statespace.sarimax import SARIMAX\n",
    "import statsmodels.api as sm\n",
    "from statsmodels.tsa.stattools import acf\n",
    "from statsmodels.tsa.stattools import pacf\n",
    "import pmdarima as pm\n",
    "from pmdarima import model_selection\n",
    "from pmdarima import auto_arima"
   ]
  },
  {
   "cell_type": "code",
   "execution_count": null,
   "id": "706c15c5",
   "metadata": {},
   "outputs": [],
   "source": [
    "# import viz libraries\n",
    "import matplotlib.pyplot as plt\n",
    "import plotly\n",
    "plotly.offline.init_notebook_mode(connected=True)\n",
    "from plotly.graph_objs import *\n",
    "from plotly import tools\n",
    "import plotly.graph_objects as go\n",
    "from matplotlib import pyplot\n",
    "from pandas.plotting import autocorrelation_plot"
   ]
  },
  {
   "cell_type": "markdown",
   "id": "cf5bf964",
   "metadata": {},
   "source": [
    "### Get data"
   ]
  },
  {
   "cell_type": "code",
   "execution_count": null,
   "id": "e3c184d3",
   "metadata": {},
   "outputs": [],
   "source": [
    "# fetch data from the CSV file\n",
    "prev_year = pd.read_csv('solarTAC_hourly_2016_4_months_scaled.csv', parse_dates = ['datetime'])\n",
    "solar_test = pd.read_csv('solarTAC_hourly_2017_4_months_scaled.csv', parse_dates = ['datetime'])\n",
    "prev_year.rename(columns={'scaled_global' : 'global'}, inplace = True)\n",
    "solar_test.rename(columns={'scaled_global' : 'global'}, inplace = True)\n",
    "\n",
    "# NOTE: The temp and weather are forecasts made one day ahead\n",
    "\n",
    "prev_year.head()\n",
    "prev_year.tail()\n",
    "\n",
    "solar_test.head()\n",
    "solar_test.tail()"
   ]
  },
  {
   "cell_type": "code",
   "execution_count": null,
   "id": "d1d22cc9",
   "metadata": {},
   "outputs": [],
   "source": [
    "# The set of values the categorical variables take\n",
    "set(solar_test['Denver_weather'])\n",
    "set(prev_year['Denver_weather'])"
   ]
  },
  {
   "cell_type": "code",
   "execution_count": null,
   "id": "c9b64df8",
   "metadata": {},
   "outputs": [],
   "source": [
    "# Going to make the weather variable as 4 categories\n",
    "solar_test.replace(to_replace=['broken clouds', 'few clouds', 'scattered clouds'],\n",
    "           value='some clouds', inplace=True)\n",
    "solar_test.replace(to_replace=['fog', 'haze', 'light rain', 'light snow', 'mist', 'overcast clouds'],\n",
    "           value='very cloudy', inplace=True)\n",
    "prev_year.replace(to_replace=['broken clouds', 'few clouds', 'scattered clouds'],\n",
    "           value='some clouds', inplace=True)\n",
    "prev_year.replace(to_replace=['fog', 'haze', 'light rain', 'mist', 'overcast clouds'],\n",
    "           value='very cloudy', inplace=True)"
   ]
  },
  {
   "cell_type": "code",
   "execution_count": null,
   "id": "5ea5e4f4",
   "metadata": {},
   "outputs": [],
   "source": [
    "# Creating dummy variables for categorical weather data (Test data)\n",
    "solar_test = pd.get_dummies(solar_test, drop_first=True) \n",
    "solar_test.head()"
   ]
  },
  {
   "cell_type": "code",
   "execution_count": null,
   "id": "aa99ef05",
   "metadata": {},
   "outputs": [],
   "source": [
    "# Adding features based on irradiance from 1 day ago, 1 day & 1 hour ago, 2 days ago for test data\n",
    "solar_test['lags'] = solar_test['global'].shift(periods = 8)\n",
    "solar_test['lags-1'] = solar_test['global'].shift(periods = 9)\n",
    "solar_test['lag2s'] = solar_test['global'].shift(periods = 16)\n",
    "solar_test.dropna(inplace = True) # This will drop the first two full days\n",
    "solar_test.head()"
   ]
  },
  {
   "cell_type": "code",
   "execution_count": null,
   "id": "7d2efdf3",
   "metadata": {},
   "outputs": [],
   "source": [
    "# Creating dummy variables for categorical weather data (Train data)\n",
    "gb_train_data = pd.get_dummies(prev_year, drop_first=True) \n",
    "gb_train_data.head()"
   ]
  },
  {
   "cell_type": "code",
   "execution_count": null,
   "id": "fea60128",
   "metadata": {},
   "outputs": [],
   "source": [
    "# Adding features based on irradiance from 1 day ago, 1 day & 1 hour ago, 2 days ago for train data\n",
    "gb_train_data['lags'] = gb_train_data['global'].shift(periods = 8)\n",
    "gb_train_data['lags-1'] = gb_train_data['global'].shift(periods = 9)\n",
    "gb_train_data['lag2s'] = gb_train_data['global'].shift(periods = 16)\n",
    "gb_train_data.dropna(inplace = True) # This will drop the first two full days\n",
    "gb_train_data.head()"
   ]
  },
  {
   "cell_type": "code",
   "execution_count": null,
   "id": "c3188e5f",
   "metadata": {},
   "outputs": [],
   "source": [
    "# One shot training based on previous year\n",
    "X_train = gb_train_data.drop(columns = ['datetime', 'global'])\n",
    "y_train = gb_train_data['global']\n",
    "X_train.head()\n",
    "\n",
    "# defining the model and parameters\n",
    "gb = GradientBoostingRegressor(n_estimators = 100, max_depth = 5, min_samples_leaf = 2)\n",
    "\n",
    "# Asking the model to fit the training data\n",
    "gb = gb.fit(X_train, y_train) \n",
    "\n",
    "# Asking what the importance of features\n",
    "gb.feature_importances_"
   ]
  },
  {
   "cell_type": "code",
   "execution_count": null,
   "id": "f921ad27",
   "metadata": {},
   "outputs": [],
   "source": [
    "# Make forecasts using Gradient Boosting for current year\n",
    "\n",
    "X_test = solar_test.drop(columns = ['datetime', 'global'])\n",
    "y_test = solar_test['global']\n",
    "\n",
    "# Make predictions\n",
    "y_preds = gb.predict(X_test)\n",
    "\n",
    "# Calculate percentage and absolute errors\n",
    "perc_errors = np.abs(y_test-y_preds)/y_test\n",
    "abs_errors = np.abs(y_test-y_preds)"
   ]
  },
  {
   "cell_type": "code",
   "execution_count": null,
   "id": "d4c815f8",
   "metadata": {},
   "outputs": [],
   "source": [
    "# Print the percentage-error results\n",
    "print('Mean absolute percentage error:', np.mean(perc_errors))\n",
    "print('Median absolute percentage error:', np.median(perc_errors))\n",
    "print('75th percentile of absolute percentage error:', np.percentile(perc_errors, 75))\n",
    "print('90th percentile of absolute percentage error:', np.percentile(perc_errors, 90))"
   ]
  },
  {
   "cell_type": "code",
   "execution_count": null,
   "id": "ef641f9a",
   "metadata": {},
   "outputs": [],
   "source": [
    "# Print the absolute error ratio results\n",
    "avg_global = prev_year['global'].mean()\n",
    "print('Mean absolute error ratio:', np.mean(abs_errors)/avg_global)\n",
    "print('Median absolute error ratio:', np.median(abs_errors)/avg_global)\n",
    "print('75th percentile absolute error ratio:', np.percentile(abs_errors, 75)/avg_global)\n",
    "print('90th percentile absolute error ratio:', np.percentile(abs_errors, 90)/avg_global)"
   ]
  },
  {
   "cell_type": "markdown",
   "id": "3242711b",
   "metadata": {},
   "source": [
    "## XGB"
   ]
  },
  {
   "cell_type": "code",
   "execution_count": null,
   "id": "85ac385a",
   "metadata": {},
   "outputs": [],
   "source": [
    "# Define the XGBoost regressor with specific hyperparameters\n",
    "model = XGBRegressor(\n",
    "    n_estimators=50,\n",
    "    max_depth=4,\n",
    "    learning_rate=0.1,\n",
    "    subsample=1.0,\n",
    "    min_child_weight = 5.0, \n",
    "    colsample_bytree=1.0,\n",
    "    gamma = 50.0,\n",
    "    objective='reg:absoluteerror',\n",
    "    random_state=42\n",
    "    )\n",
    "\n",
    "# Train the model\n",
    "model.fit(X_train, y_train)"
   ]
  },
  {
   "cell_type": "code",
   "execution_count": null,
   "id": "8a197eee",
   "metadata": {},
   "outputs": [],
   "source": [
    "# Make predictions\n",
    "y_preds = model.predict(X_test)\n",
    "# Calculate percentage and absolute errors\n",
    "perc_errors = np.abs(y_test-y_preds)/y_test\n",
    "abs_errors = np.abs(y_test-y_preds)"
   ]
  },
  {
   "cell_type": "code",
   "execution_count": null,
   "id": "339ed1b7",
   "metadata": {},
   "outputs": [],
   "source": [
    "# Print the percentage-error results\n",
    "print('Mean absolute percentage error:', np.mean(perc_errors))\n",
    "print('Median absolute percentage error:', np.median(perc_errors))\n",
    "print('75th percentile of absolute percentage error:', np.percentile(perc_errors, 75))\n",
    "print('90th percentile of absolute percentage error:', np.percentile(perc_errors, 90))"
   ]
  },
  {
   "cell_type": "code",
   "execution_count": null,
   "id": "f4db1cf6",
   "metadata": {},
   "outputs": [],
   "source": [
    "# Print the absolute error ratio results\n",
    "print('Mean absolute error ratio:', np.mean(abs_errors)/avg_global)\n",
    "print('Median absolute error ratio:', np.median(abs_errors)/avg_global)\n",
    "print('75th percentile absolute error ratio:', np.percentile(abs_errors, 75)/avg_global)\n",
    "print('90th percentile absolute error ratio:', np.percentile(abs_errors, 90)/avg_global)"
   ]
  },
  {
   "cell_type": "markdown",
   "id": "2888826d",
   "metadata": {},
   "source": [
    "## Persistent Forecast (simply forecast the same value as previous day at that time)"
   ]
  },
  {
   "cell_type": "code",
   "execution_count": null,
   "id": "bdceefc7",
   "metadata": {},
   "outputs": [],
   "source": [
    "# Print the percentage-error results\n",
    "print('Mean absolute percentage error:', np.mean(abs(1-X_test['lags']/y_test), axis = 0))\n",
    "print('Median absolute percentage error:', np.median(abs(1-X_test['lags']/y_test), axis = 0))\n",
    "print('75th percentile of absolute percentage error:', np.percentile(abs(1-X_test['lags']/y_test), 75, axis = 0))\n",
    "print('90th percentile of absolute percentage error:', np.percentile(abs(1-X_test['lags']/y_test), 90, axis = 0))"
   ]
  },
  {
   "cell_type": "code",
   "execution_count": null,
   "id": "27a2fc84",
   "metadata": {},
   "outputs": [],
   "source": [
    "# Print the absolute error ratio results\n",
    "print('Mean absolute error ratio:', np.mean(abs(X_test['lags']-y_test), axis = 0)/avg_global)\n",
    "print('Median absolute error ratio:', np.median(abs(X_test['lags']-y_test), axis = 0)/avg_global)\n",
    "print('75th percentile absolute error ratio:', np.percentile(abs(X_test['lags']-y_test), 75, axis = 0)/avg_global)\n",
    "print('90th percentile absolute error ratio:', np.percentile(abs(X_test['lags']-y_test), 90, axis = 0)/avg_global)"
   ]
  },
  {
   "cell_type": "code",
   "execution_count": null,
   "id": "c2f20a2d",
   "metadata": {},
   "outputs": [],
   "source": []
  }
 ],
 "metadata": {
  "kernelspec": {
   "display_name": "Python 3 (ipykernel)",
   "language": "python",
   "name": "python3"
  },
  "language_info": {
   "codemirror_mode": {
    "name": "ipython",
    "version": 3
   },
   "file_extension": ".py",
   "mimetype": "text/x-python",
   "name": "python",
   "nbconvert_exporter": "python",
   "pygments_lexer": "ipython3",
   "version": "3.9.7"
  }
 },
 "nbformat": 4,
 "nbformat_minor": 5
}
