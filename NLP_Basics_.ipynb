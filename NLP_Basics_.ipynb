{
  "cells": [
    {
      "cell_type": "markdown",
      "metadata": {
        "id": "sQ7RV9jlafgH"
      },
      "source": [
        "NLP - Branch of Computer Science or Branch of AI that has ability to understand human languages. Using NLP you can give AI/Computers\n",
        "ability to learn and interpret, manipulate and process human language."
      ]
    },
    {
      "cell_type": "code",
      "execution_count": 3,
      "metadata": {
        "id": "BjK5vY9fZ4tC"
      },
      "outputs": [],
      "source": [
        "# natural language tool kit\n",
        "import nltk"
      ]
    },
    {
      "cell_type": "code",
      "execution_count": 2,
      "metadata": {
        "colab": {
          "base_uri": "https://localhost:8080/"
        },
        "id": "BZ40qOMFat76",
        "outputId": "e87027b1-e91f-4d2f-c12a-ea6556944c89"
      },
      "outputs": [
        {
          "output_type": "stream",
          "name": "stderr",
          "text": [
            "[nltk_data] Downloading collection 'popular'\n",
            "[nltk_data]    | \n",
            "[nltk_data]    | Downloading package cmudict to /root/nltk_data...\n",
            "[nltk_data]    |   Unzipping corpora/cmudict.zip.\n",
            "[nltk_data]    | Downloading package gazetteers to /root/nltk_data...\n",
            "[nltk_data]    |   Unzipping corpora/gazetteers.zip.\n",
            "[nltk_data]    | Downloading package genesis to /root/nltk_data...\n",
            "[nltk_data]    |   Unzipping corpora/genesis.zip.\n",
            "[nltk_data]    | Downloading package gutenberg to /root/nltk_data...\n",
            "[nltk_data]    |   Unzipping corpora/gutenberg.zip.\n",
            "[nltk_data]    | Downloading package inaugural to /root/nltk_data...\n",
            "[nltk_data]    |   Unzipping corpora/inaugural.zip.\n",
            "[nltk_data]    | Downloading package movie_reviews to\n",
            "[nltk_data]    |     /root/nltk_data...\n",
            "[nltk_data]    |   Unzipping corpora/movie_reviews.zip.\n",
            "[nltk_data]    | Downloading package names to /root/nltk_data...\n",
            "[nltk_data]    |   Unzipping corpora/names.zip.\n",
            "[nltk_data]    | Downloading package shakespeare to /root/nltk_data...\n",
            "[nltk_data]    |   Unzipping corpora/shakespeare.zip.\n",
            "[nltk_data]    | Downloading package stopwords to /root/nltk_data...\n",
            "[nltk_data]    |   Unzipping corpora/stopwords.zip.\n",
            "[nltk_data]    | Downloading package treebank to /root/nltk_data...\n",
            "[nltk_data]    |   Unzipping corpora/treebank.zip.\n",
            "[nltk_data]    | Downloading package twitter_samples to\n",
            "[nltk_data]    |     /root/nltk_data...\n",
            "[nltk_data]    |   Unzipping corpora/twitter_samples.zip.\n",
            "[nltk_data]    | Downloading package omw to /root/nltk_data...\n",
            "[nltk_data]    | Downloading package omw-1.4 to /root/nltk_data...\n",
            "[nltk_data]    | Downloading package wordnet to /root/nltk_data...\n",
            "[nltk_data]    | Downloading package wordnet2021 to /root/nltk_data...\n",
            "[nltk_data]    | Downloading package wordnet31 to /root/nltk_data...\n",
            "[nltk_data]    | Downloading package wordnet_ic to /root/nltk_data...\n",
            "[nltk_data]    |   Unzipping corpora/wordnet_ic.zip.\n",
            "[nltk_data]    | Downloading package words to /root/nltk_data...\n",
            "[nltk_data]    |   Unzipping corpora/words.zip.\n",
            "[nltk_data]    | Downloading package maxent_ne_chunker to\n",
            "[nltk_data]    |     /root/nltk_data...\n",
            "[nltk_data]    |   Unzipping chunkers/maxent_ne_chunker.zip.\n",
            "[nltk_data]    | Downloading package punkt to /root/nltk_data...\n",
            "[nltk_data]    |   Unzipping tokenizers/punkt.zip.\n",
            "[nltk_data]    | Downloading package snowball_data to\n",
            "[nltk_data]    |     /root/nltk_data...\n",
            "[nltk_data]    | Downloading package averaged_perceptron_tagger to\n",
            "[nltk_data]    |     /root/nltk_data...\n",
            "[nltk_data]    |   Unzipping taggers/averaged_perceptron_tagger.zip.\n",
            "[nltk_data]    | \n",
            "[nltk_data]  Done downloading collection popular\n"
          ]
        },
        {
          "output_type": "execute_result",
          "data": {
            "text/plain": [
              "True"
            ]
          },
          "metadata": {},
          "execution_count": 2
        }
      ],
      "source": [
        "nltk.download('popular')"
      ]
    },
    {
      "cell_type": "markdown",
      "metadata": {
        "id": "s8773vhfbOxN"
      },
      "source": [
        "##### 1. Tokenization\n",
        "    * Process of breaking down a text paragraph into smaller chunks of sentences and words."
      ]
    },
    {
      "cell_type": "code",
      "execution_count": 4,
      "metadata": {
        "id": "TBN2w-nObJ-p"
      },
      "outputs": [],
      "source": [
        "# 1) sentence tokenization\n",
        "from nltk.tokenize import sent_tokenize"
      ]
    },
    {
      "cell_type": "code",
      "execution_count": 5,
      "metadata": {
        "id": "xxgYkOVzcPhI"
      },
      "outputs": [],
      "source": [
        "paragraph = \"\"\"Hello Participants ! Topic of the day is Natural Language Processing. We are learning about\n",
        "Natural Language Processing using nltk package. natural language processing is interesting and easy.\n",
        "This is also known as NLP.\"\"\""
      ]
    },
    {
      "cell_type": "code",
      "execution_count": 6,
      "metadata": {
        "id": "W3tHh5Y1cjqN"
      },
      "outputs": [],
      "source": [
        "tokenized_text = sent_tokenize(paragraph)"
      ]
    },
    {
      "cell_type": "code",
      "execution_count": 7,
      "metadata": {
        "colab": {
          "base_uri": "https://localhost:8080/"
        },
        "id": "_s9pHD_Qcvzb",
        "outputId": "baf3d382-37ba-49f0-c700-d9acd9ef33b1"
      },
      "outputs": [
        {
          "output_type": "execute_result",
          "data": {
            "text/plain": [
              "['Hello Participants !',\n",
              " 'Topic of the day is Natural Language Processing.',\n",
              " 'We are learning about\\nNatural Language Processing using nltk package.',\n",
              " 'natural language processing is interesting and easy.',\n",
              " 'This is also known as NLP.']"
            ]
          },
          "metadata": {},
          "execution_count": 7
        }
      ],
      "source": [
        "tokenized_text"
      ]
    },
    {
      "cell_type": "markdown",
      "metadata": {
        "id": "zYoFadaxgolq"
      },
      "source": [
        "###### 2. Word Tokenization"
      ]
    },
    {
      "cell_type": "code",
      "execution_count": 8,
      "metadata": {
        "id": "m1GBFDw5cw73"
      },
      "outputs": [],
      "source": [
        "from nltk.tokenize import word_tokenize"
      ]
    },
    {
      "cell_type": "code",
      "execution_count": 9,
      "metadata": {
        "colab": {
          "base_uri": "https://localhost:8080/"
        },
        "id": "LtK7eheMgvB3",
        "outputId": "1ae3e324-8018-4792-a503-f86b017f4822"
      },
      "outputs": [
        {
          "output_type": "stream",
          "name": "stdout",
          "text": [
            "['Hello', 'Participants', '!', 'Topic', 'of', 'the', 'day', 'is', 'Natural', 'Language', 'Processing', '.', 'We', 'are', 'learning', 'about', 'Natural', 'Language', 'Processing', 'using', 'nltk', 'package', '.', 'natural', 'language', 'processing', 'is', 'interesting', 'and', 'easy', '.', 'This', 'is', 'also', 'known', 'as', 'NLP', '.']\n"
          ]
        }
      ],
      "source": [
        "print(word_tokenize(paragraph))"
      ]
    },
    {
      "cell_type": "markdown",
      "metadata": {
        "id": "llesmsSShRxM"
      },
      "source": [
        "##### 3. Tokens and Removing Punctuations\n",
        "    * Regular Expressions"
      ]
    },
    {
      "cell_type": "code",
      "execution_count": 10,
      "metadata": {
        "id": "4ZBtcPUXg8uR"
      },
      "outputs": [],
      "source": [
        "from nltk.tokenize import RegexpTokenizer"
      ]
    },
    {
      "cell_type": "code",
      "execution_count": 13,
      "metadata": {
        "id": "sJKZaaqWhe-Y"
      },
      "outputs": [],
      "source": [
        "tokeizer = RegexpTokenizer(r'\\w+') # \\w means only words and \\w+ means word of any size"
      ]
    },
    {
      "cell_type": "code",
      "execution_count": 15,
      "metadata": {
        "colab": {
          "base_uri": "https://localhost:8080/"
        },
        "id": "YIucMgnzhtH7",
        "outputId": "1f87719a-1ebc-48de-aaec-395460f8c9a2"
      },
      "outputs": [
        {
          "output_type": "execute_result",
          "data": {
            "text/plain": [
              "['Hello',\n",
              " 'Participants',\n",
              " 'Topic',\n",
              " 'of',\n",
              " 'the',\n",
              " 'day',\n",
              " 'is',\n",
              " 'Natural',\n",
              " 'Language',\n",
              " 'Processing',\n",
              " 'We',\n",
              " 'are',\n",
              " 'learning',\n",
              " 'about',\n",
              " 'Natural',\n",
              " 'Language',\n",
              " 'Processing',\n",
              " 'using',\n",
              " 'nltk',\n",
              " 'package',\n",
              " 'natural',\n",
              " 'language',\n",
              " 'processing',\n",
              " 'is',\n",
              " 'interesting',\n",
              " 'and',\n",
              " 'easy',\n",
              " 'This',\n",
              " 'is',\n",
              " 'also',\n",
              " 'known',\n",
              " 'as',\n",
              " 'NLP']"
            ]
          },
          "metadata": {},
          "execution_count": 15
        }
      ],
      "source": [
        "tokeizer.tokenize(paragraph) #Punctuations will be removed"
      ]
    },
    {
      "cell_type": "markdown",
      "metadata": {
        "id": "9AUG90wmjIVq"
      },
      "source": [
        "##### 4. Lowercase paragraph / Sentences"
      ]
    },
    {
      "cell_type": "code",
      "execution_count": 16,
      "metadata": {
        "id": "_0ErVUoxhyMk"
      },
      "outputs": [],
      "source": [
        "paragraph = paragraph.lower()"
      ]
    },
    {
      "cell_type": "code",
      "execution_count": 17,
      "metadata": {
        "colab": {
          "base_uri": "https://localhost:8080/",
          "height": 52
        },
        "id": "FCMdXJEojRm_",
        "outputId": "ff7a1faa-d48e-45cc-cf58-be27627e532f"
      },
      "outputs": [
        {
          "output_type": "execute_result",
          "data": {
            "text/plain": [
              "'hello participants ! topic of the day is natural language processing. we are learning about\\nnatural language processing using nltk package. natural language processing is interesting and easy.\\nthis is also known as nlp.'"
            ],
            "application/vnd.google.colaboratory.intrinsic+json": {
              "type": "string"
            }
          },
          "metadata": {},
          "execution_count": 17
        }
      ],
      "source": [
        "paragraph"
      ]
    },
    {
      "cell_type": "code",
      "execution_count": 18,
      "metadata": {
        "id": "OVfV7Zh6jvKe"
      },
      "outputs": [],
      "source": [
        "tokenizer = RegexpTokenizer(r'\\w+')\n",
        "new_words = tokenizer.tokenize(paragraph)"
      ]
    },
    {
      "cell_type": "markdown",
      "metadata": {
        "id": "DqxJUw4Bj9i6"
      },
      "source": [
        "###### 5. Removing StopWords\n",
        "          * Helping words such as “the,” “a,” “an,” or “in”"
      ]
    },
    {
      "cell_type": "code",
      "execution_count": 19,
      "metadata": {
        "colab": {
          "base_uri": "https://localhost:8080/"
        },
        "id": "zPMqhrKQj65O",
        "outputId": "52204cf7-a137-4070-f57c-4d377a4b1727"
      },
      "outputs": [
        {
          "output_type": "execute_result",
          "data": {
            "text/plain": [
              "['i',\n",
              " 'me',\n",
              " 'my',\n",
              " 'myself',\n",
              " 'we',\n",
              " 'our',\n",
              " 'ours',\n",
              " 'ourselves',\n",
              " 'you',\n",
              " \"you're\",\n",
              " \"you've\",\n",
              " \"you'll\",\n",
              " \"you'd\",\n",
              " 'your',\n",
              " 'yours',\n",
              " 'yourself',\n",
              " 'yourselves',\n",
              " 'he',\n",
              " 'him',\n",
              " 'his',\n",
              " 'himself',\n",
              " 'she',\n",
              " \"she's\",\n",
              " 'her',\n",
              " 'hers',\n",
              " 'herself',\n",
              " 'it',\n",
              " \"it's\",\n",
              " 'its',\n",
              " 'itself',\n",
              " 'they',\n",
              " 'them',\n",
              " 'their',\n",
              " 'theirs',\n",
              " 'themselves',\n",
              " 'what',\n",
              " 'which',\n",
              " 'who',\n",
              " 'whom',\n",
              " 'this',\n",
              " 'that',\n",
              " \"that'll\",\n",
              " 'these',\n",
              " 'those',\n",
              " 'am',\n",
              " 'is',\n",
              " 'are',\n",
              " 'was',\n",
              " 'were',\n",
              " 'be',\n",
              " 'been',\n",
              " 'being',\n",
              " 'have',\n",
              " 'has',\n",
              " 'had',\n",
              " 'having',\n",
              " 'do',\n",
              " 'does',\n",
              " 'did',\n",
              " 'doing',\n",
              " 'a',\n",
              " 'an',\n",
              " 'the',\n",
              " 'and',\n",
              " 'but',\n",
              " 'if',\n",
              " 'or',\n",
              " 'because',\n",
              " 'as',\n",
              " 'until',\n",
              " 'while',\n",
              " 'of',\n",
              " 'at',\n",
              " 'by',\n",
              " 'for',\n",
              " 'with',\n",
              " 'about',\n",
              " 'against',\n",
              " 'between',\n",
              " 'into',\n",
              " 'through',\n",
              " 'during',\n",
              " 'before',\n",
              " 'after',\n",
              " 'above',\n",
              " 'below',\n",
              " 'to',\n",
              " 'from',\n",
              " 'up',\n",
              " 'down',\n",
              " 'in',\n",
              " 'out',\n",
              " 'on',\n",
              " 'off',\n",
              " 'over',\n",
              " 'under',\n",
              " 'again',\n",
              " 'further',\n",
              " 'then',\n",
              " 'once',\n",
              " 'here',\n",
              " 'there',\n",
              " 'when',\n",
              " 'where',\n",
              " 'why',\n",
              " 'how',\n",
              " 'all',\n",
              " 'any',\n",
              " 'both',\n",
              " 'each',\n",
              " 'few',\n",
              " 'more',\n",
              " 'most',\n",
              " 'other',\n",
              " 'some',\n",
              " 'such',\n",
              " 'no',\n",
              " 'nor',\n",
              " 'not',\n",
              " 'only',\n",
              " 'own',\n",
              " 'same',\n",
              " 'so',\n",
              " 'than',\n",
              " 'too',\n",
              " 'very',\n",
              " 's',\n",
              " 't',\n",
              " 'can',\n",
              " 'will',\n",
              " 'just',\n",
              " 'don',\n",
              " \"don't\",\n",
              " 'should',\n",
              " \"should've\",\n",
              " 'now',\n",
              " 'd',\n",
              " 'll',\n",
              " 'm',\n",
              " 'o',\n",
              " 're',\n",
              " 've',\n",
              " 'y',\n",
              " 'ain',\n",
              " 'aren',\n",
              " \"aren't\",\n",
              " 'couldn',\n",
              " \"couldn't\",\n",
              " 'didn',\n",
              " \"didn't\",\n",
              " 'doesn',\n",
              " \"doesn't\",\n",
              " 'hadn',\n",
              " \"hadn't\",\n",
              " 'hasn',\n",
              " \"hasn't\",\n",
              " 'haven',\n",
              " \"haven't\",\n",
              " 'isn',\n",
              " \"isn't\",\n",
              " 'ma',\n",
              " 'mightn',\n",
              " \"mightn't\",\n",
              " 'mustn',\n",
              " \"mustn't\",\n",
              " 'needn',\n",
              " \"needn't\",\n",
              " 'shan',\n",
              " \"shan't\",\n",
              " 'shouldn',\n",
              " \"shouldn't\",\n",
              " 'wasn',\n",
              " \"wasn't\",\n",
              " 'weren',\n",
              " \"weren't\",\n",
              " 'won',\n",
              " \"won't\",\n",
              " 'wouldn',\n",
              " \"wouldn't\"]"
            ]
          },
          "metadata": {},
          "execution_count": 19
        }
      ],
      "source": [
        "from nltk.corpus import stopwords\n",
        "# english, german, spanish, portuguese, dutch, italian, greek\n",
        "stop_words = stopwords.words(\"english\")\n",
        "stop_words"
      ]
    },
    {
      "cell_type": "code",
      "execution_count": 20,
      "metadata": {
        "id": "IBQ0b0gbkW1m"
      },
      "outputs": [],
      "source": [
        "filtered_words = []\n",
        "for w in new_words:\n",
        "    if w not in stop_words:\n",
        "        filtered_words.append(w)"
      ]
    },
    {
      "cell_type": "code",
      "execution_count": 21,
      "metadata": {
        "colab": {
          "base_uri": "https://localhost:8080/"
        },
        "id": "9NnbIL3mk4vS",
        "outputId": "3cab0965-8ed7-4244-9d7b-1fd465b8ccd4"
      },
      "outputs": [
        {
          "output_type": "execute_result",
          "data": {
            "text/plain": [
              "['hello',\n",
              " 'participants',\n",
              " 'topic',\n",
              " 'day',\n",
              " 'natural',\n",
              " 'language',\n",
              " 'processing',\n",
              " 'learning',\n",
              " 'natural',\n",
              " 'language',\n",
              " 'processing',\n",
              " 'using',\n",
              " 'nltk',\n",
              " 'package',\n",
              " 'natural',\n",
              " 'language',\n",
              " 'processing',\n",
              " 'interesting',\n",
              " 'easy',\n",
              " 'also',\n",
              " 'known',\n",
              " 'nlp']"
            ]
          },
          "metadata": {},
          "execution_count": 21
        }
      ],
      "source": [
        "filtered_words"
      ]
    },
    {
      "cell_type": "markdown",
      "metadata": {
        "id": "e1yzX-W1mAvF"
      },
      "source": [
        "###### 6. Frequency Distribution"
      ]
    },
    {
      "cell_type": "code",
      "execution_count": 22,
      "metadata": {
        "id": "xdxP34hVlEU6"
      },
      "outputs": [],
      "source": [
        "from nltk.probability import FreqDist\n",
        "import matplotlib.pyplot as plt"
      ]
    },
    {
      "cell_type": "code",
      "execution_count": 23,
      "metadata": {
        "colab": {
          "base_uri": "https://localhost:8080/",
          "height": 518
        },
        "id": "-AZvpimxmLPk",
        "outputId": "9a78e9b7-d658-4a38-952b-f292029703c7"
      },
      "outputs": [
        {
          "output_type": "display_data",
          "data": {
            "text/plain": [
              "<Figure size 640x480 with 1 Axes>"
            ],
            "image/png": "[encoded data removed]"
          },
          "metadata": {}
        }
      ],
      "source": [
        "fdist = FreqDist(filtered_words)\n",
        "fdist.plot()\n",
        "plt.show()"
      ]
    },
    {
      "cell_type": "code",
      "execution_count": null,
      "metadata": {
        "id": "bRskUogBmS_I"
      },
      "outputs": [],
      "source": [
        "file_path = \"/content/Harry Potter and the Deathly Hallows.txt\"\n",
        "with open(file_path, \"r\") as file:\n",
        "    content = file.read()"
      ]
    },
    {
      "cell_type": "code",
      "execution_count": null,
      "metadata": {
        "id": "bhpRBCHEnhzD"
      },
      "outputs": [],
      "source": [
        "print(content)"
      ]
    },
    {
      "cell_type": "code",
      "execution_count": null,
      "metadata": {
        "id": "p6G0V2meoBCI"
      },
      "outputs": [],
      "source": [
        "import re\n",
        "paragraph = content.lower()\n",
        "# remove digits from paragraph\n",
        "clean_paragraph = re.sub(r\"\\d+\", \"\", paragraph)\n",
        "tokenizer = RegexpTokenizer(r\"\\w+\")\n",
        "new_words1 = tokenizer.tokenize(clean_paragraph)"
      ]
    },
    {
      "cell_type": "code",
      "execution_count": null,
      "metadata": {
        "id": "HKJVmD_jpkR0"
      },
      "outputs": [],
      "source": [
        "filtered_words1 = []\n",
        "for w in new_words1:\n",
        "    if w not in stop_words:\n",
        "        filtered_words1.append(w)"
      ]
    },
    {
      "cell_type": "code",
      "execution_count": null,
      "metadata": {
        "id": "IcEp5c-SqURg"
      },
      "outputs": [],
      "source": [
        "print(filtered_words1)"
      ]
    },
    {
      "cell_type": "code",
      "execution_count": null,
      "metadata": {
        "id": "_Tf555odqZCH"
      },
      "outputs": [],
      "source": [
        "fdist = FreqDist(filtered_words1)\n",
        "fdist"
      ]
    },
    {
      "cell_type": "code",
      "execution_count": null,
      "metadata": {
        "id": "pc4D3dXrtIQO"
      },
      "outputs": [],
      "source": [
        "sorted_dict = dict(sorted(fdist.items(), key = lambda item : item[1], reverse = True))\n",
        "sorted_dict"
      ]
    },
    {
      "cell_type": "code",
      "execution_count": null,
      "metadata": {
        "id": "j4rTHKe8qrxR"
      },
      "outputs": [],
      "source": [
        "first_30_items = {key: sorted_dict[key] for key in list(sorted_dict.keys())[:30]}"
      ]
    },
    {
      "cell_type": "code",
      "execution_count": null,
      "metadata": {
        "id": "H6gyH6s8q9HW"
      },
      "outputs": [],
      "source": [
        "first_30_items"
      ]
    },
    {
      "cell_type": "code",
      "execution_count": null,
      "metadata": {
        "id": "bzTCqNrZuRKa"
      },
      "outputs": [],
      "source": [
        "fdist = FreqDist(first_30_items)\n",
        "fdist.plot()\n",
        "plt.show()"
      ]
    },
    {
      "cell_type": "markdown",
      "metadata": {
        "id": "HpxuonizuzT2"
      },
      "source": [
        "##### 6. Lexicon Normalization\n",
        "    * Stemming & Lemmatization\n",
        "    * Lemmatization: This process of converting words to their root form. This ligustically correct lemmas."
      ]
    },
    {
      "cell_type": "code",
      "execution_count": null,
      "metadata": {
        "id": "N3B2V39FuhM3"
      },
      "outputs": [],
      "source": [
        "# \"going\" => go, \"went\" => \"go\", \"gone\" => \"go\""
      ]
    },
    {
      "cell_type": "code",
      "execution_count": 24,
      "metadata": {
        "colab": {
          "base_uri": "https://localhost:8080/"
        },
        "id": "I39POtktvXfZ",
        "outputId": "c9abd0d4-69a9-4019-fb4b-f9a5371c7b41"
      },
      "outputs": [
        {
          "output_type": "execute_result",
          "data": {
            "text/plain": [
              "['hello',\n",
              " 'participants',\n",
              " 'topic',\n",
              " 'day',\n",
              " 'natural',\n",
              " 'language',\n",
              " 'processing',\n",
              " 'learning',\n",
              " 'natural',\n",
              " 'language',\n",
              " 'processing',\n",
              " 'using',\n",
              " 'nltk',\n",
              " 'package',\n",
              " 'natural',\n",
              " 'language',\n",
              " 'processing',\n",
              " 'interesting',\n",
              " 'easy',\n",
              " 'also',\n",
              " 'known',\n",
              " 'nlp']"
            ]
          },
          "metadata": {},
          "execution_count": 24
        }
      ],
      "source": [
        "filtered_words"
      ]
    },
    {
      "cell_type": "code",
      "execution_count": 25,
      "metadata": {
        "id": "eeLAtC5pvgsr"
      },
      "outputs": [],
      "source": [
        "from nltk.stem.wordnet import WordNetLemmatizer\n",
        "lemmas = WordNetLemmatizer()"
      ]
    },
    {
      "cell_type": "code",
      "execution_count": 26,
      "metadata": {
        "colab": {
          "base_uri": "https://localhost:8080/",
          "height": 35
        },
        "id": "rxAlDA5vwiDx",
        "outputId": "3b912ca3-e885-43f2-a749-ca072d2dc415"
      },
      "outputs": [
        {
          "output_type": "execute_result",
          "data": {
            "text/plain": [
              "'learn'"
            ],
            "application/vnd.google.colaboratory.intrinsic+json": {
              "type": "string"
            }
          },
          "metadata": {},
          "execution_count": 26
        }
      ],
      "source": [
        "# lemmatize(word,pos) - pos:part of sppech 'noun','verb','adjective','adverb'\n",
        "word = 'learning'\n",
        "lemmas.lemmatize(word, 'v')"
      ]
    },
    {
      "cell_type": "code",
      "execution_count": 27,
      "metadata": {
        "colab": {
          "base_uri": "https://localhost:8080/",
          "height": 35
        },
        "id": "e0rGqPfww2Uo",
        "outputId": "c61352bc-f09a-4b70-becb-2407de20ac54"
      },
      "outputs": [
        {
          "output_type": "execute_result",
          "data": {
            "text/plain": [
              "'harry'"
            ],
            "application/vnd.google.colaboratory.intrinsic+json": {
              "type": "string"
            }
          },
          "metadata": {},
          "execution_count": 27
        }
      ],
      "source": [
        "word = 'harry'\n",
        "lemmas.lemmatize(word, 'n')   # 'v' - verb, 'r' - adverb, 'n' - noun, 'a' - adjective"
      ]
    },
    {
      "cell_type": "markdown",
      "metadata": {
        "id": "jJoUEzEHV_6w"
      },
      "source": [
        "##### Stemming: It is process of chopping off affixes like 's','es','ing' etc from end of words."
      ]
    },
    {
      "cell_type": "code",
      "execution_count": 28,
      "metadata": {
        "id": "Vz-HTDXLxGG1"
      },
      "outputs": [],
      "source": [
        "from nltk.stem import PorterStemmer\n",
        "pstem = PorterStemmer()"
      ]
    },
    {
      "cell_type": "code",
      "execution_count": 29,
      "metadata": {
        "colab": {
          "base_uri": "https://localhost:8080/",
          "height": 35
        },
        "id": "seQMiqFnWXW4",
        "outputId": "eeb246dd-aee9-477b-ba58-0ab3afcf23be"
      },
      "outputs": [
        {
          "output_type": "execute_result",
          "data": {
            "text/plain": [
              "'cun'"
            ],
            "application/vnd.google.colaboratory.intrinsic+json": {
              "type": "string"
            }
          },
          "metadata": {},
          "execution_count": 29
        }
      ],
      "source": [
        "words = \"cunning\"\n",
        "pstem.stem(words)"
      ]
    },
    {
      "cell_type": "code",
      "execution_count": 30,
      "metadata": {
        "colab": {
          "base_uri": "https://localhost:8080/",
          "height": 35
        },
        "id": "4sktGUcLWmHg",
        "outputId": "390f18b7-39b0-4cdd-c52c-ced9379efaf3"
      },
      "outputs": [
        {
          "output_type": "execute_result",
          "data": {
            "text/plain": [
              "'cunning'"
            ],
            "application/vnd.google.colaboratory.intrinsic+json": {
              "type": "string"
            }
          },
          "metadata": {},
          "execution_count": 30
        }
      ],
      "source": [
        "lemmas.lemmatize(words, 'v')"
      ]
    },
    {
      "cell_type": "markdown",
      "metadata": {
        "id": "cdvVEq_AXcqa"
      },
      "source": [
        "##### POS : Part of Speech"
      ]
    },
    {
      "cell_type": "code",
      "execution_count": 31,
      "metadata": {
        "id": "3o_uVnGcXFGe"
      },
      "outputs": [],
      "source": [
        "sentence = \"Natural language Processing can do amazing stuff like chatbots\""
      ]
    },
    {
      "cell_type": "code",
      "execution_count": 32,
      "metadata": {
        "colab": {
          "base_uri": "https://localhost:8080/"
        },
        "id": "_1-GqsOaX589",
        "outputId": "2247c2fe-ff99-49f6-9ccb-5e51cc2d919e"
      },
      "outputs": [
        {
          "output_type": "stream",
          "name": "stdout",
          "text": [
            "POS Tagging\n"
          ]
        }
      ],
      "source": [
        "'''\n",
        "CC coordinating conjunction\n",
        "CD cardinal digit\n",
        "DT determiner\n",
        "EX existential there (like: “there is” … think of it like “there exists”)\n",
        "FW foreign word\n",
        "IN preposition/subordinating conjunction\n",
        "JJ adjective ‘big’\n",
        "JJR adjective, comparative ‘bigger’\n",
        "JJS adjective, superlative ‘biggest’\n",
        "LS list marker 1)\n",
        "MD modal could, will\n",
        "NN noun, singular ‘desk’\n",
        "NNS noun plural ‘desks’\n",
        "NNP proper noun, singular ‘Harrison’c\n",
        "NNPS proper noun, plural ‘Americans’\n",
        "PDT predeterminer ‘all the kids’\n",
        "POS possessive ending parent‘s\n",
        "PRP personal pronoun I, he, she\n",
        "PRP$ possessive pronoun my, his, hers\n",
        "RB adverb very, silently,\n",
        "RBR adverb, comparative better\n",
        "RBS adverb, superlative best\n",
        "RP particle give up\n",
        "TO to go ‘to‘ the store.\n",
        "UH interjection errrrrrrrm\n",
        "VB verb, base form take\n",
        "VBD verb, past tense took\n",
        "VBG verb, gerund/present participle taking\n",
        "VBN verb, past participle taken\n",
        "VBP verb, sing. present, non-3d take\n",
        "VBZ verb, 3rd person sing. present takes\n",
        "WDT wh-determiner which\n",
        "WP wh-pronoun who, what\n",
        "WP$ possessive wh-pronoun whose\n",
        "WRB wh-abverb where, when\n",
        "'''\n",
        "print(\"POS Tagging\")"
      ]
    },
    {
      "cell_type": "code",
      "execution_count": 33,
      "metadata": {
        "colab": {
          "base_uri": "https://localhost:8080/"
        },
        "id": "9u3ImX0qYFhY",
        "outputId": "c77dd5b4-dfd9-4eea-afa7-1fcac5c93ad6"
      },
      "outputs": [
        {
          "output_type": "execute_result",
          "data": {
            "text/plain": [
              "[('hello', 'NN'),\n",
              " ('participants', 'NNS'),\n",
              " ('topic', 'VBP'),\n",
              " ('day', 'NN'),\n",
              " ('natural', 'JJ'),\n",
              " ('language', 'NN'),\n",
              " ('processing', 'NN'),\n",
              " ('learning', 'VBG'),\n",
              " ('natural', 'JJ'),\n",
              " ('language', 'NN'),\n",
              " ('processing', 'NN'),\n",
              " ('using', 'VBG'),\n",
              " ('nltk', 'JJ'),\n",
              " ('package', 'NN'),\n",
              " ('natural', 'JJ'),\n",
              " ('language', 'NN'),\n",
              " ('processing', 'NN'),\n",
              " ('interesting', 'JJ'),\n",
              " ('easy', 'JJ'),\n",
              " ('also', 'RB'),\n",
              " ('known', 'VBN'),\n",
              " ('nlp', 'NN')]"
            ]
          },
          "metadata": {},
          "execution_count": 33
        }
      ],
      "source": [
        "from nltk import pos_tag\n",
        "pos_tag(filtered_words)"
      ]
    },
    {
      "cell_type": "code",
      "execution_count": 34,
      "metadata": {
        "id": "8KBxbMhHY0DJ"
      },
      "outputs": [],
      "source": [
        "def lammatize_words(words):\n",
        "    lammas = WordNetLemmatizer()\n",
        "    for word, tag in pos_tag(words):\n",
        "        if tag.startswith('NN'):\n",
        "            yield lemmas.lemmatize(word, 'n')\n",
        "        if tag.startswith('VB'):\n",
        "            yield lemmas.lemmatize(word, 'v')\n",
        "        if tag.startswith('JJ'):\n",
        "            yield lemmas.lemmatize(word, 'a')\n",
        "        if tag.startswith('RB'):\n",
        "            yield lemmas.lemmatize(word, 'r')"
      ]
    },
    {
      "cell_type": "code",
      "execution_count": 35,
      "metadata": {
        "colab": {
          "base_uri": "https://localhost:8080/"
        },
        "id": "fLRyGnRxZv_j",
        "outputId": "a2f69acd-f1e5-48c9-e5ac-e7479d215beb"
      },
      "outputs": [
        {
          "output_type": "stream",
          "name": "stdout",
          "text": [
            "hello participant topic day natural language processing learn natural language processing use nltk package natural language processing interesting easy also know nlp\n"
          ]
        }
      ],
      "source": [
        "print(\" \".join(lammatize_words(filtered_words)))"
      ]
    },
    {
      "cell_type": "code",
      "execution_count": null,
      "metadata": {
        "id": "D3eiABTPaAg_"
      },
      "outputs": [],
      "source": []
    }
  ],
  "metadata": {
    "colab": {
      "provenance": []
    },
    "kernelspec": {
      "display_name": "Python 3 (ipykernel)",
      "language": "python",
      "name": "python3"
    },
    "language_info": {
      "codemirror_mode": {
        "name": "ipython",
        "version": 3
      },
      "file_extension": ".py",
      "mimetype": "text/x-python",
      "name": "python",
      "nbconvert_exporter": "python",
      "pygments_lexer": "ipython3",
      "version": "3.11.5"
    }
  },
  "nbformat": 4,
  "nbformat_minor": 0
}