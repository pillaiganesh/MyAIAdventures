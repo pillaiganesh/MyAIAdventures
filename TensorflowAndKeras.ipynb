{
  "nbformat": 4,
  "nbformat_minor": 0,
  "metadata": {
    "colab": {
      "provenance": [],
      "authorship_tag": "ABX9TyOcHnDtyp4LdJq3/4VDCnkB",
      "include_colab_link": true
    },
    "kernelspec": {
      "name": "python3",
      "display_name": "Python 3"
    },
    "language_info": {
      "name": "python"
    }
  },
  "cells": [
    {
      "cell_type": "markdown",
      "metadata": {
        "id": "view-in-github",
        "colab_type": "text"
      },
      "source": [
        "<a href=\"https://colab.research.google.com/github/pillaiganesh/MyAIAdventures/blob/IITB-Workshop/TensorflowAndKeras.ipynb\" target=\"_parent\"><img src=\"https://colab.research.google.com/assets/colab-badge.svg\" alt=\"Open In Colab\"/></a>"
      ]
    },
    {
      "cell_type": "code",
      "execution_count": null,
      "metadata": {
        "id": "-tSccn2AtkCf"
      },
      "outputs": [],
      "source": [
        "import tensorflow as tf\n",
        "import keras"
      ]
    },
    {
      "cell_type": "markdown",
      "source": [
        "Tensor - 0(Constanr, 1D (Vectors), 2D (Marix), 3D or More (Tensors)"
      ],
      "metadata": {
        "id": "TVv-mW1ZuVSm"
      }
    },
    {
      "cell_type": "code",
      "source": [
        "const_1 =tf.constant(100)"
      ],
      "metadata": {
        "id": "OhGcwKSkugJ9"
      },
      "execution_count": null,
      "outputs": []
    },
    {
      "cell_type": "code",
      "source": [
        "const_1.shape"
      ],
      "metadata": {
        "colab": {
          "base_uri": "https://localhost:8080/"
        },
        "id": "EwcxW_ZxuqK8",
        "outputId": "acfa9415-24ae-4b73-ad12-0d521cc6b5b4"
      },
      "execution_count": null,
      "outputs": [
        {
          "output_type": "execute_result",
          "data": {
            "text/plain": [
              "TensorShape([])"
            ]
          },
          "metadata": {},
          "execution_count": 3
        }
      ]
    },
    {
      "cell_type": "code",
      "source": [
        "const_1.numpy()"
      ],
      "metadata": {
        "colab": {
          "base_uri": "https://localhost:8080/"
        },
        "id": "i2tHPj7YuuDE",
        "outputId": "d7b3c7c9-ce6d-49de-9e84-0eb80400cf66"
      },
      "execution_count": null,
      "outputs": [
        {
          "output_type": "execute_result",
          "data": {
            "text/plain": [
              "100"
            ]
          },
          "metadata": {},
          "execution_count": 4
        }
      ]
    },
    {
      "cell_type": "code",
      "source": [
        "const_2 = tf.constant([10,20,30,40,50,60,70,80])"
      ],
      "metadata": {
        "id": "79bcXzTAux2d"
      },
      "execution_count": null,
      "outputs": []
    },
    {
      "cell_type": "code",
      "source": [
        "const_2.shape"
      ],
      "metadata": {
        "colab": {
          "base_uri": "https://localhost:8080/"
        },
        "id": "k9JtWk3Nu8Ie",
        "outputId": "acb310bd-2ac3-487e-ab8f-57d91fd8d62d"
      },
      "execution_count": null,
      "outputs": [
        {
          "output_type": "execute_result",
          "data": {
            "text/plain": [
              "TensorShape([8])"
            ]
          },
          "metadata": {},
          "execution_count": 6
        }
      ]
    },
    {
      "cell_type": "code",
      "source": [
        "const_2.numpy()"
      ],
      "metadata": {
        "colab": {
          "base_uri": "https://localhost:8080/"
        },
        "id": "hkwwHXo9vH2D",
        "outputId": "396c1928-116e-4888-f9d1-38541464d077"
      },
      "execution_count": null,
      "outputs": [
        {
          "output_type": "execute_result",
          "data": {
            "text/plain": [
              "array([10, 20, 30, 40, 50, 60, 70, 80], dtype=int32)"
            ]
          },
          "metadata": {},
          "execution_count": 7
        }
      ]
    },
    {
      "cell_type": "code",
      "source": [
        "const_3 = tf.constant([[10,20,30,40,50,60,70],\n",
        "                      [10,20,30,40,50,60,70],\n",
        "                      [10,20,30,40,50,60,70]])"
      ],
      "metadata": {
        "id": "eU2mbdMMxQZE"
      },
      "execution_count": null,
      "outputs": []
    },
    {
      "cell_type": "code",
      "source": [
        "const_3.shape"
      ],
      "metadata": {
        "colab": {
          "base_uri": "https://localhost:8080/"
        },
        "id": "bOutUwkdxk8C",
        "outputId": "dde19343-9055-4d2f-b461-4e3f67e66bc6"
      },
      "execution_count": null,
      "outputs": [
        {
          "output_type": "execute_result",
          "data": {
            "text/plain": [
              "TensorShape([3, 7])"
            ]
          },
          "metadata": {},
          "execution_count": 11
        }
      ]
    },
    {
      "cell_type": "code",
      "source": [
        "const_3.numpy()"
      ],
      "metadata": {
        "colab": {
          "base_uri": "https://localhost:8080/"
        },
        "id": "K23ielKAxnQR",
        "outputId": "26594fd6-0987-4187-8d8d-a087b80edc33"
      },
      "execution_count": null,
      "outputs": [
        {
          "output_type": "execute_result",
          "data": {
            "text/plain": [
              "array([[10, 20, 30, 40, 50, 60, 70],\n",
              "       [10, 20, 30, 40, 50, 60, 70],\n",
              "       [10, 20, 30, 40, 50, 60, 70]], dtype=int32)"
            ]
          },
          "metadata": {},
          "execution_count": 12
        }
      ]
    },
    {
      "cell_type": "code",
      "source": [
        "const_4 = tf.constant([\n",
        "                      [[10,20,30,40,50,60,70],\n",
        "                      [10,20,30,40,50,60,70],\n",
        "                      [10,20,30,40,50,60,70]],\n",
        "\n",
        "                      [[10,20,30,40,50,60,70],\n",
        "                      [10,20,30,40,50,60,70],\n",
        "                      [10,20,30,40,50,60,70]],\n",
        "                       ])"
      ],
      "metadata": {
        "id": "oXC2bcAcxtJA"
      },
      "execution_count": null,
      "outputs": []
    },
    {
      "cell_type": "code",
      "source": [
        "const_4.shape"
      ],
      "metadata": {
        "colab": {
          "base_uri": "https://localhost:8080/"
        },
        "id": "Wosaq5OGx7W5",
        "outputId": "6c42f727-cb3c-4b82-bd15-5b6829560021"
      },
      "execution_count": null,
      "outputs": [
        {
          "output_type": "execute_result",
          "data": {
            "text/plain": [
              "TensorShape([2, 3, 7])"
            ]
          },
          "metadata": {},
          "execution_count": 19
        }
      ]
    },
    {
      "cell_type": "code",
      "source": [
        "# This is N-Dimensional representation of an Numpy Array representing various Ranks like:\n",
        "# scalar : rank = 0, vector : rank = 1, matrix : rank = 2, tensor : 3 or more."
      ],
      "metadata": {
        "id": "ZqgaMtLI0-VR"
      },
      "execution_count": null,
      "outputs": []
    },
    {
      "cell_type": "code",
      "source": [
        "const_4.numpy()"
      ],
      "metadata": {
        "colab": {
          "base_uri": "https://localhost:8080/"
        },
        "id": "Q62PXRTDyI-R",
        "outputId": "c7d84470-80f1-4fd7-a7de-b4d6f220ed97"
      },
      "execution_count": null,
      "outputs": [
        {
          "output_type": "execute_result",
          "data": {
            "text/plain": [
              "array([[[10, 20, 30, 40, 50, 60, 70],\n",
              "        [10, 20, 30, 40, 50, 60, 70],\n",
              "        [10, 20, 30, 40, 50, 60, 70]],\n",
              "\n",
              "       [[10, 20, 30, 40, 50, 60, 70],\n",
              "        [10, 20, 30, 40, 50, 60, 70],\n",
              "        [10, 20, 30, 40, 50, 60, 70]]], dtype=int32)"
            ]
          },
          "metadata": {},
          "execution_count": 20
        }
      ]
    },
    {
      "cell_type": "markdown",
      "source": [
        "##### Mathematical operations"
      ],
      "metadata": {
        "id": "0A9RR-EU1XqO"
      }
    },
    {
      "cell_type": "code",
      "source": [
        "X = tf.constant([[8],\n",
        "                 [9],\n",
        "                 [11],\n",
        "                 [7],\n",
        "                 [10],\n",
        "                 [12]])"
      ],
      "metadata": {
        "id": "Q-1RdAwi1g6I"
      },
      "execution_count": 21,
      "outputs": []
    },
    {
      "cell_type": "code",
      "source": [
        "X.shape"
      ],
      "metadata": {
        "colab": {
          "base_uri": "https://localhost:8080/"
        },
        "id": "wt7FjJec3Cj9",
        "outputId": "b7b393d3-164f-4869-9f5e-adc856e29d06"
      },
      "execution_count": 22,
      "outputs": [
        {
          "output_type": "execute_result",
          "data": {
            "text/plain": [
              "TensorShape([6, 1])"
            ]
          },
          "metadata": {},
          "execution_count": 22
        }
      ]
    },
    {
      "cell_type": "code",
      "source": [
        "W = tf.Variable([[10],\n",
        "                 [11],\n",
        "                 [12],\n",
        "                 [13],\n",
        "                 [14],\n",
        "                 [15]])\n",
        "W.shape"
      ],
      "metadata": {
        "colab": {
          "base_uri": "https://localhost:8080/"
        },
        "id": "hQgwawp_3ILE",
        "outputId": "1da71a28-20ca-4d41-aa47-bd52ceb52dfa"
      },
      "execution_count": 23,
      "outputs": [
        {
          "output_type": "execute_result",
          "data": {
            "text/plain": [
              "TensorShape([6, 1])"
            ]
          },
          "metadata": {},
          "execution_count": 23
        }
      ]
    },
    {
      "cell_type": "code",
      "source": [
        "# Y = XT * W + bias\n",
        "# or\n",
        "# Y = X * WT + bias\n",
        "WT = tf.transpose(W)\n",
        "tf.tensordot(WT, X, axes = 1)"
      ],
      "metadata": {
        "colab": {
          "base_uri": "https://localhost:8080/"
        },
        "id": "a5SCY8Hl3SlR",
        "outputId": "a44a9c6c-e856-4676-917c-2f598c88b753"
      },
      "execution_count": 28,
      "outputs": [
        {
          "output_type": "execute_result",
          "data": {
            "text/plain": [
              "<tf.Tensor: shape=(1, 1), dtype=int32, numpy=array([[722]], dtype=int32)>"
            ]
          },
          "metadata": {},
          "execution_count": 28
        }
      ]
    },
    {
      "cell_type": "code",
      "source": [
        "tf.tensordot(X, WT, axes = 1)"
      ],
      "metadata": {
        "colab": {
          "base_uri": "https://localhost:8080/"
        },
        "id": "Y_M-yaZy5Jm7",
        "outputId": "ffda167b-014f-4bf2-e7d1-91ee9f0591ac"
      },
      "execution_count": 31,
      "outputs": [
        {
          "output_type": "execute_result",
          "data": {
            "text/plain": [
              "<tf.Tensor: shape=(6, 6), dtype=int32, numpy=\n",
              "array([[ 80,  88,  96, 104, 112, 120],\n",
              "       [ 90,  99, 108, 117, 126, 135],\n",
              "       [110, 121, 132, 143, 154, 165],\n",
              "       [ 70,  77,  84,  91,  98, 105],\n",
              "       [100, 110, 120, 130, 140, 150],\n",
              "       [120, 132, 144, 156, 168, 180]], dtype=int32)>"
            ]
          },
          "metadata": {},
          "execution_count": 31
        }
      ]
    },
    {
      "cell_type": "markdown",
      "source": [
        "##### Keras:\n",
        "Keras is high level API based on Tensorflow, to create Deep Learning Neural Networks easily.\n",
        "(Dense Neural Network (DNN), CNN & RNN"
      ],
      "metadata": {
        "id": "GKpklw8i6Afr"
      }
    },
    {
      "cell_type": "code",
      "source": [],
      "metadata": {
        "id": "qROQK0Ge6a3i"
      },
      "execution_count": null,
      "outputs": []
    }
  ]
}