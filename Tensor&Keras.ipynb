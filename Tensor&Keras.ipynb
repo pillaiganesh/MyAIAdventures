{
  "nbformat": 4,
  "nbformat_minor": 0,
  "metadata": {
    "colab": {
      "provenance": [],
      "authorship_tag": "ABX9TyMSneohHEveqVtugsNd+beZ",
      "include_colab_link": true
    },
    "kernelspec": {
      "name": "python3",
      "display_name": "Python 3"
    },
    "language_info": {
      "name": "python"
    }
  },
  "cells": [
    {
      "cell_type": "markdown",
      "metadata": {
        "id": "view-in-github",
        "colab_type": "text"
      },
      "source": [
        "<a href=\"https://colab.research.google.com/github/pillaiganesh/MyAIAdventures/blob/main/Tensor%26Keras.ipynb\" target=\"_parent\"><img src=\"https://colab.research.google.com/assets/colab-badge.svg\" alt=\"Open In Colab\"/></a>"
      ]
    },
    {
      "cell_type": "code",
      "execution_count": 1,
      "metadata": {
        "id": "-tSccn2AtkCf"
      },
      "outputs": [],
      "source": [
        "import tensorflow as tf\n",
        "import keras"
      ]
    },
    {
      "cell_type": "markdown",
      "source": [
        "Tensor - 0(Constanr, 1D (Vectors), 2D (Marix), 3D or More (Tensors)"
      ],
      "metadata": {
        "id": "TVv-mW1ZuVSm"
      }
    },
    {
      "cell_type": "code",
      "source": [
        "const_1 =tf.constant(100)"
      ],
      "metadata": {
        "id": "OhGcwKSkugJ9"
      },
      "execution_count": 2,
      "outputs": []
    },
    {
      "cell_type": "code",
      "source": [
        "const_1.shape"
      ],
      "metadata": {
        "colab": {
          "base_uri": "https://localhost:8080/"
        },
        "id": "EwcxW_ZxuqK8",
        "outputId": "acfa9415-24ae-4b73-ad12-0d521cc6b5b4"
      },
      "execution_count": 3,
      "outputs": [
        {
          "output_type": "execute_result",
          "data": {
            "text/plain": [
              "TensorShape([])"
            ]
          },
          "metadata": {},
          "execution_count": 3
        }
      ]
    },
    {
      "cell_type": "code",
      "source": [
        "const_1.numpy()"
      ],
      "metadata": {
        "colab": {
          "base_uri": "https://localhost:8080/"
        },
        "id": "i2tHPj7YuuDE",
        "outputId": "d7b3c7c9-ce6d-49de-9e84-0eb80400cf66"
      },
      "execution_count": 4,
      "outputs": [
        {
          "output_type": "execute_result",
          "data": {
            "text/plain": [
              "100"
            ]
          },
          "metadata": {},
          "execution_count": 4
        }
      ]
    },
    {
      "cell_type": "code",
      "source": [
        "const_2 = tf.constant([10,20,30,40,50,60,70,80])"
      ],
      "metadata": {
        "id": "79bcXzTAux2d"
      },
      "execution_count": 5,
      "outputs": []
    },
    {
      "cell_type": "code",
      "source": [
        "const_2.shape"
      ],
      "metadata": {
        "colab": {
          "base_uri": "https://localhost:8080/"
        },
        "id": "k9JtWk3Nu8Ie",
        "outputId": "acb310bd-2ac3-487e-ab8f-57d91fd8d62d"
      },
      "execution_count": 6,
      "outputs": [
        {
          "output_type": "execute_result",
          "data": {
            "text/plain": [
              "TensorShape([8])"
            ]
          },
          "metadata": {},
          "execution_count": 6
        }
      ]
    },
    {
      "cell_type": "code",
      "source": [
        "const_2.numpy()"
      ],
      "metadata": {
        "colab": {
          "base_uri": "https://localhost:8080/"
        },
        "id": "hkwwHXo9vH2D",
        "outputId": "396c1928-116e-4888-f9d1-38541464d077"
      },
      "execution_count": 7,
      "outputs": [
        {
          "output_type": "execute_result",
          "data": {
            "text/plain": [
              "array([10, 20, 30, 40, 50, 60, 70, 80], dtype=int32)"
            ]
          },
          "metadata": {},
          "execution_count": 7
        }
      ]
    },
    {
      "cell_type": "code",
      "source": [
        "const_3 = tf.constant([[10,20,30,40,50,60,70],\n",
        "                      [10,20,30,40,50,60,70],\n",
        "                      [10,20,30,40,50,60,70]])"
      ],
      "metadata": {
        "id": "eU2mbdMMxQZE"
      },
      "execution_count": 16,
      "outputs": []
    },
    {
      "cell_type": "code",
      "source": [
        "const_3.shape"
      ],
      "metadata": {
        "colab": {
          "base_uri": "https://localhost:8080/"
        },
        "id": "bOutUwkdxk8C",
        "outputId": "dde19343-9055-4d2f-b461-4e3f67e66bc6"
      },
      "execution_count": 11,
      "outputs": [
        {
          "output_type": "execute_result",
          "data": {
            "text/plain": [
              "TensorShape([3, 7])"
            ]
          },
          "metadata": {},
          "execution_count": 11
        }
      ]
    },
    {
      "cell_type": "code",
      "source": [
        "const_3.numpy()"
      ],
      "metadata": {
        "colab": {
          "base_uri": "https://localhost:8080/"
        },
        "id": "K23ielKAxnQR",
        "outputId": "26594fd6-0987-4187-8d8d-a087b80edc33"
      },
      "execution_count": 12,
      "outputs": [
        {
          "output_type": "execute_result",
          "data": {
            "text/plain": [
              "array([[10, 20, 30, 40, 50, 60, 70],\n",
              "       [10, 20, 30, 40, 50, 60, 70],\n",
              "       [10, 20, 30, 40, 50, 60, 70]], dtype=int32)"
            ]
          },
          "metadata": {},
          "execution_count": 12
        }
      ]
    },
    {
      "cell_type": "code",
      "source": [
        "const_4 = tf.constant([\n",
        "                      [[10,20,30,40,50,60,70],\n",
        "                      [10,20,30,40,50,60,70],\n",
        "                      [10,20,30,40,50,60,70]],\n",
        "\n",
        "                      [[10,20,30,40,50,60,70],\n",
        "                      [10,20,30,40,50,60,70],\n",
        "                      [10,20,30,40,50,60,70]],\n",
        "                       ])"
      ],
      "metadata": {
        "id": "oXC2bcAcxtJA"
      },
      "execution_count": 18,
      "outputs": []
    },
    {
      "cell_type": "code",
      "source": [
        "const_4.shape"
      ],
      "metadata": {
        "colab": {
          "base_uri": "https://localhost:8080/"
        },
        "id": "Wosaq5OGx7W5",
        "outputId": "6c42f727-cb3c-4b82-bd15-5b6829560021"
      },
      "execution_count": 19,
      "outputs": [
        {
          "output_type": "execute_result",
          "data": {
            "text/plain": [
              "TensorShape([2, 3, 7])"
            ]
          },
          "metadata": {},
          "execution_count": 19
        }
      ]
    },
    {
      "cell_type": "code",
      "source": [
        "const_4.numpy()"
      ],
      "metadata": {
        "colab": {
          "base_uri": "https://localhost:8080/"
        },
        "id": "Q62PXRTDyI-R",
        "outputId": "c7d84470-80f1-4fd7-a7de-b4d6f220ed97"
      },
      "execution_count": 20,
      "outputs": [
        {
          "output_type": "execute_result",
          "data": {
            "text/plain": [
              "array([[[10, 20, 30, 40, 50, 60, 70],\n",
              "        [10, 20, 30, 40, 50, 60, 70],\n",
              "        [10, 20, 30, 40, 50, 60, 70]],\n",
              "\n",
              "       [[10, 20, 30, 40, 50, 60, 70],\n",
              "        [10, 20, 30, 40, 50, 60, 70],\n",
              "        [10, 20, 30, 40, 50, 60, 70]]], dtype=int32)"
            ]
          },
          "metadata": {},
          "execution_count": 20
        }
      ]
    }
  ]
}